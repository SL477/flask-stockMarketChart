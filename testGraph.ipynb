{
 "cells": [
  {
   "cell_type": "markdown",
   "id": "geographic-brisbane",
   "metadata": {},
   "source": [
    "# Test getting data and graph"
   ]
  },
  {
   "cell_type": "code",
   "execution_count": 10,
   "id": "loved-credits",
   "metadata": {},
   "outputs": [],
   "source": [
    "from key import apikey\n",
    "import requests\n",
    "import pandas as pd"
   ]
  },
  {
   "cell_type": "code",
   "execution_count": 62,
   "id": "smart-stranger",
   "metadata": {},
   "outputs": [],
   "source": [
    "stocks = ['IBM','TSLA']"
   ]
  },
  {
   "cell_type": "code",
   "execution_count": 5,
   "id": "united-bridges",
   "metadata": {},
   "outputs": [],
   "source": [
    "def GetPrices(stock):\n",
    "    '''\n",
    "    This is to get the data from Alpha Vantage\n",
    "    '''\n",
    "    url = f\"https://www.alphavantage.co/query?function=TIME_SERIES_DAILY&symbol={stock}&apikey={apikey()}\"\n",
    "    r = requests.get(url)\n",
    "    return r.json()"
   ]
  },
  {
   "cell_type": "code",
   "execution_count": 57,
   "id": "buried-oriental",
   "metadata": {},
   "outputs": [],
   "source": [
    "ibmData = GetPrices(stocks[1])"
   ]
  },
  {
   "cell_type": "code",
   "execution_count": 12,
   "id": "statistical-learning",
   "metadata": {},
   "outputs": [
    {
     "data": {
      "text/html": [
       "<div>\n",
       "<style scoped>\n",
       "    .dataframe tbody tr th:only-of-type {\n",
       "        vertical-align: middle;\n",
       "    }\n",
       "\n",
       "    .dataframe tbody tr th {\n",
       "        vertical-align: top;\n",
       "    }\n",
       "\n",
       "    .dataframe thead th {\n",
       "        text-align: right;\n",
       "    }\n",
       "</style>\n",
       "<table border=\"1\" class=\"dataframe\">\n",
       "  <thead>\n",
       "    <tr style=\"text-align: right;\">\n",
       "      <th></th>\n",
       "      <th>2021-07-09</th>\n",
       "      <th>2021-07-08</th>\n",
       "      <th>2021-07-07</th>\n",
       "      <th>2021-07-06</th>\n",
       "      <th>2021-07-02</th>\n",
       "      <th>2021-07-01</th>\n",
       "      <th>2021-06-30</th>\n",
       "      <th>2021-06-29</th>\n",
       "      <th>2021-06-28</th>\n",
       "      <th>2021-06-25</th>\n",
       "      <th>...</th>\n",
       "      <th>2021-03-02</th>\n",
       "      <th>2021-03-01</th>\n",
       "      <th>2021-02-26</th>\n",
       "      <th>2021-02-25</th>\n",
       "      <th>2021-02-24</th>\n",
       "      <th>2021-02-23</th>\n",
       "      <th>2021-02-22</th>\n",
       "      <th>2021-02-19</th>\n",
       "      <th>2021-02-18</th>\n",
       "      <th>2021-02-17</th>\n",
       "    </tr>\n",
       "  </thead>\n",
       "  <tbody>\n",
       "    <tr>\n",
       "      <th>1. open</th>\n",
       "      <td>141.4500</td>\n",
       "      <td>137.7800</td>\n",
       "      <td>138.7600</td>\n",
       "      <td>139.9900</td>\n",
       "      <td>146.9100</td>\n",
       "      <td>146.9600</td>\n",
       "      <td>145.1300</td>\n",
       "      <td>145.2600</td>\n",
       "      <td>147.0100</td>\n",
       "      <td>145.3800</td>\n",
       "      <td>...</td>\n",
       "      <td>120.7400</td>\n",
       "      <td>120.3500</td>\n",
       "      <td>122.2500</td>\n",
       "      <td>123.3700</td>\n",
       "      <td>120.8000</td>\n",
       "      <td>120.9200</td>\n",
       "      <td>118.5000</td>\n",
       "      <td>120.7500</td>\n",
       "      <td>120.5000</td>\n",
       "      <td>119.2700</td>\n",
       "    </tr>\n",
       "    <tr>\n",
       "      <th>2. high</th>\n",
       "      <td>141.9800</td>\n",
       "      <td>141.3100</td>\n",
       "      <td>140.3300</td>\n",
       "      <td>140.4200</td>\n",
       "      <td>146.9500</td>\n",
       "      <td>147.5000</td>\n",
       "      <td>146.9300</td>\n",
       "      <td>146.7400</td>\n",
       "      <td>147.3000</td>\n",
       "      <td>146.9300</td>\n",
       "      <td>...</td>\n",
       "      <td>121.9000</td>\n",
       "      <td>122.3200</td>\n",
       "      <td>122.2500</td>\n",
       "      <td>124.3500</td>\n",
       "      <td>123.4900</td>\n",
       "      <td>121.3500</td>\n",
       "      <td>121.1250</td>\n",
       "      <td>120.7600</td>\n",
       "      <td>120.9400</td>\n",
       "      <td>120.5600</td>\n",
       "    </tr>\n",
       "    <tr>\n",
       "      <th>3. low</th>\n",
       "      <td>140.8410</td>\n",
       "      <td>137.6600</td>\n",
       "      <td>138.7600</td>\n",
       "      <td>137.1000</td>\n",
       "      <td>139.4600</td>\n",
       "      <td>146.5700</td>\n",
       "      <td>144.7100</td>\n",
       "      <td>145.1000</td>\n",
       "      <td>144.9121</td>\n",
       "      <td>144.9450</td>\n",
       "      <td>...</td>\n",
       "      <td>120.2600</td>\n",
       "      <td>119.8649</td>\n",
       "      <td>118.8800</td>\n",
       "      <td>122.3350</td>\n",
       "      <td>120.5200</td>\n",
       "      <td>119.8000</td>\n",
       "      <td>118.4400</td>\n",
       "      <td>118.3800</td>\n",
       "      <td>119.7000</td>\n",
       "      <td>119.0200</td>\n",
       "    </tr>\n",
       "    <tr>\n",
       "      <th>4. close</th>\n",
       "      <td>141.5200</td>\n",
       "      <td>140.7400</td>\n",
       "      <td>139.8200</td>\n",
       "      <td>138.7800</td>\n",
       "      <td>140.0200</td>\n",
       "      <td>146.8400</td>\n",
       "      <td>146.5900</td>\n",
       "      <td>145.5500</td>\n",
       "      <td>145.2900</td>\n",
       "      <td>146.8400</td>\n",
       "      <td>...</td>\n",
       "      <td>120.3300</td>\n",
       "      <td>120.7400</td>\n",
       "      <td>118.9300</td>\n",
       "      <td>122.4700</td>\n",
       "      <td>123.2100</td>\n",
       "      <td>120.7100</td>\n",
       "      <td>120.8600</td>\n",
       "      <td>118.9900</td>\n",
       "      <td>120.7300</td>\n",
       "      <td>119.9700</td>\n",
       "    </tr>\n",
       "    <tr>\n",
       "      <th>5. volume</th>\n",
       "      <td>3904059</td>\n",
       "      <td>5487425</td>\n",
       "      <td>4059667</td>\n",
       "      <td>8093747</td>\n",
       "      <td>16828161</td>\n",
       "      <td>2686289</td>\n",
       "      <td>3245091</td>\n",
       "      <td>2428626</td>\n",
       "      <td>3888869</td>\n",
       "      <td>3594218</td>\n",
       "      <td>...</td>\n",
       "      <td>4524299</td>\n",
       "      <td>5715767</td>\n",
       "      <td>8868848</td>\n",
       "      <td>5672671</td>\n",
       "      <td>5819983</td>\n",
       "      <td>4531464</td>\n",
       "      <td>5838841</td>\n",
       "      <td>6578741</td>\n",
       "      <td>5399145</td>\n",
       "      <td>3949876</td>\n",
       "    </tr>\n",
       "  </tbody>\n",
       "</table>\n",
       "<p>5 rows × 100 columns</p>\n",
       "</div>"
      ],
      "text/plain": [
       "          2021-07-09 2021-07-08 2021-07-07 2021-07-06 2021-07-02 2021-07-01  \\\n",
       "1. open     141.4500   137.7800   138.7600   139.9900   146.9100   146.9600   \n",
       "2. high     141.9800   141.3100   140.3300   140.4200   146.9500   147.5000   \n",
       "3. low      140.8410   137.6600   138.7600   137.1000   139.4600   146.5700   \n",
       "4. close    141.5200   140.7400   139.8200   138.7800   140.0200   146.8400   \n",
       "5. volume    3904059    5487425    4059667    8093747   16828161    2686289   \n",
       "\n",
       "          2021-06-30 2021-06-29 2021-06-28 2021-06-25  ... 2021-03-02  \\\n",
       "1. open     145.1300   145.2600   147.0100   145.3800  ...   120.7400   \n",
       "2. high     146.9300   146.7400   147.3000   146.9300  ...   121.9000   \n",
       "3. low      144.7100   145.1000   144.9121   144.9450  ...   120.2600   \n",
       "4. close    146.5900   145.5500   145.2900   146.8400  ...   120.3300   \n",
       "5. volume    3245091    2428626    3888869    3594218  ...    4524299   \n",
       "\n",
       "          2021-03-01 2021-02-26 2021-02-25 2021-02-24 2021-02-23 2021-02-22  \\\n",
       "1. open     120.3500   122.2500   123.3700   120.8000   120.9200   118.5000   \n",
       "2. high     122.3200   122.2500   124.3500   123.4900   121.3500   121.1250   \n",
       "3. low      119.8649   118.8800   122.3350   120.5200   119.8000   118.4400   \n",
       "4. close    120.7400   118.9300   122.4700   123.2100   120.7100   120.8600   \n",
       "5. volume    5715767    8868848    5672671    5819983    4531464    5838841   \n",
       "\n",
       "          2021-02-19 2021-02-18 2021-02-17  \n",
       "1. open     120.7500   120.5000   119.2700  \n",
       "2. high     120.7600   120.9400   120.5600  \n",
       "3. low      118.3800   119.7000   119.0200  \n",
       "4. close    118.9900   120.7300   119.9700  \n",
       "5. volume    6578741    5399145    3949876  \n",
       "\n",
       "[5 rows x 100 columns]"
      ]
     },
     "execution_count": 12,
     "metadata": {},
     "output_type": "execute_result"
    }
   ],
   "source": [
    "pd.DataFrame.from_dict(ibmData['Time Series (Daily)'])"
   ]
  },
  {
   "cell_type": "code",
   "execution_count": 90,
   "id": "worth-smoke",
   "metadata": {},
   "outputs": [
    {
     "data": {
      "text/html": [
       "<div>\n",
       "<style scoped>\n",
       "    .dataframe tbody tr th:only-of-type {\n",
       "        vertical-align: middle;\n",
       "    }\n",
       "\n",
       "    .dataframe tbody tr th {\n",
       "        vertical-align: top;\n",
       "    }\n",
       "\n",
       "    .dataframe thead th {\n",
       "        text-align: right;\n",
       "    }\n",
       "</style>\n",
       "<table border=\"1\" class=\"dataframe\">\n",
       "  <thead>\n",
       "    <tr style=\"text-align: right;\">\n",
       "      <th></th>\n",
       "      <th>open</th>\n",
       "      <th>high</th>\n",
       "      <th>low</th>\n",
       "      <th>close</th>\n",
       "      <th>volume</th>\n",
       "    </tr>\n",
       "  </thead>\n",
       "  <tbody>\n",
       "    <tr>\n",
       "      <th>2021-02-17</th>\n",
       "      <td>2100.00</td>\n",
       "      <td>2133.660</td>\n",
       "      <td>2098.92</td>\n",
       "      <td>2128.31</td>\n",
       "      <td>1020252</td>\n",
       "    </tr>\n",
       "    <tr>\n",
       "      <th>2021-02-18</th>\n",
       "      <td>2110.39</td>\n",
       "      <td>2132.735</td>\n",
       "      <td>2103.71</td>\n",
       "      <td>2117.20</td>\n",
       "      <td>1121855</td>\n",
       "    </tr>\n",
       "    <tr>\n",
       "      <th>2021-02-19</th>\n",
       "      <td>2119.27</td>\n",
       "      <td>2130.530</td>\n",
       "      <td>2097.41</td>\n",
       "      <td>2101.14</td>\n",
       "      <td>1457612</td>\n",
       "    </tr>\n",
       "    <tr>\n",
       "      <th>2021-02-22</th>\n",
       "      <td>2067.00</td>\n",
       "      <td>2091.420</td>\n",
       "      <td>2062.14</td>\n",
       "      <td>2064.88</td>\n",
       "      <td>1349856</td>\n",
       "    </tr>\n",
       "    <tr>\n",
       "      <th>2021-02-23</th>\n",
       "      <td>2025.01</td>\n",
       "      <td>2082.010</td>\n",
       "      <td>2002.02</td>\n",
       "      <td>2070.86</td>\n",
       "      <td>1667377</td>\n",
       "    </tr>\n",
       "  </tbody>\n",
       "</table>\n",
       "</div>"
      ],
      "text/plain": [
       "               open      high      low    close   volume\n",
       "2021-02-17  2100.00  2133.660  2098.92  2128.31  1020252\n",
       "2021-02-18  2110.39  2132.735  2103.71  2117.20  1121855\n",
       "2021-02-19  2119.27  2130.530  2097.41  2101.14  1457612\n",
       "2021-02-22  2067.00  2091.420  2062.14  2064.88  1349856\n",
       "2021-02-23  2025.01  2082.010  2002.02  2070.86  1667377"
      ]
     },
     "metadata": {},
     "output_type": "display_data"
    },
    {
     "name": "stdout",
     "output_type": "stream",
     "text": [
      "<class 'pandas.core.frame.DataFrame'>\n",
      "DatetimeIndex: 100 entries, 2021-02-17 to 2021-07-09\n",
      "Data columns (total 5 columns):\n",
      " #   Column  Non-Null Count  Dtype  \n",
      "---  ------  --------------  -----  \n",
      " 0   open    100 non-null    float64\n",
      " 1   high    100 non-null    float64\n",
      " 2   low     100 non-null    float64\n",
      " 3   close   100 non-null    float64\n",
      " 4   volume  100 non-null    int64  \n",
      "dtypes: float64(4), int64(1)\n",
      "memory usage: 4.7 KB\n"
     ]
    },
    {
     "data": {
      "text/plain": [
       "None"
      ]
     },
     "metadata": {},
     "output_type": "display_data"
    }
   ],
   "source": [
    "def ConvertJsonToDataFrame(data):\n",
    "    '''\n",
    "    Put in the json from the GetPrices API and return a dataframe of the clean data\n",
    "    '''\n",
    "    df = pd.DataFrame.from_dict(data['Time Series (Daily)'])\n",
    "    df = df.transpose()\n",
    "    df.index = pd.to_datetime(df.index)\n",
    "    df = df.sort_index()\n",
    "    df = df.rename(columns={'1. open': 'open', '2. high': 'high', '3. low': 'low', '4. close': 'close', '5. volume': 'volume'})\n",
    "    df['close'] = df['close'].astype(float)\n",
    "    df['open'] = df['open'].astype(float)\n",
    "    df['high'] = df['high'].astype(float)\n",
    "    df['low'] = df['low'].astype(float)\n",
    "    df['volume'] = df['volume'].astype(int)\n",
    "    return df\n",
    "df2 = ConvertJsonToDataFrame(ibmData)\n",
    "display(df2.head())\n",
    "display(df2.info())"
   ]
  },
  {
   "cell_type": "code",
   "execution_count": 30,
   "id": "following-europe",
   "metadata": {},
   "outputs": [],
   "source": [
    "import numpy as np"
   ]
  },
  {
   "cell_type": "code",
   "execution_count": 31,
   "id": "substantial-mount",
   "metadata": {},
   "outputs": [
    {
     "data": {
      "text/plain": [
       "'151.2800'"
      ]
     },
     "execution_count": 31,
     "metadata": {},
     "output_type": "execute_result"
    }
   ],
   "source": [
    "np.max(df2['close'])"
   ]
  },
  {
   "cell_type": "code",
   "execution_count": 51,
   "id": "dressed-calgary",
   "metadata": {},
   "outputs": [
    {
     "data": {
      "text/plain": [
       "Timestamp('2021-02-17 00:00:00')"
      ]
     },
     "execution_count": 51,
     "metadata": {},
     "output_type": "execute_result"
    }
   ],
   "source": [
    "np.min(df2.index)"
   ]
  },
  {
   "cell_type": "code",
   "execution_count": 43,
   "id": "departmental-control",
   "metadata": {},
   "outputs": [],
   "source": [
    "import matplotlib.pyplot as plt\n",
    "import matplotlib.dates as mdates"
   ]
  },
  {
   "cell_type": "code",
   "execution_count": null,
   "id": "acknowledged-silicon",
   "metadata": {},
   "outputs": [],
   "source": []
  },
  {
   "cell_type": "code",
   "execution_count": 59,
   "id": "choice-plaza",
   "metadata": {},
   "outputs": [
    {
     "data": {
      "text/plain": [
       "<Figure size 432x288 with 0 Axes>"
      ]
     },
     "metadata": {},
     "output_type": "display_data"
    },
    {
     "data": {
      "image/png": "[encoded data removed]",
      "text/plain": [
       "<Figure size 1080x576 with 1 Axes>"
      ]
     },
     "metadata": {
      "needs_background": "light"
     },
     "output_type": "display_data"
    }
   ],
   "source": [
    "plt.clf()\n",
    "plt.figure(figsize=(15,8))\n",
    "plt.plot(df2.index, df2['close'])\n",
    "\n",
    "myFmt = mdates.DateFormatter('%b-%y')\n",
    "plt.gca().xaxis.set_major_formatter(myFmt)\n",
    "plt.ylabel('Close Amount ($)')\n",
    "plt.xlabel('Day')\n",
    "plt.gca().xaxis.set_minor_locator(mdates.DayLocator())\n",
    "plt.show()"
   ]
  },
  {
   "cell_type": "markdown",
   "id": "about-electron",
   "metadata": {},
   "source": [
    "# End to end"
   ]
  },
  {
   "cell_type": "code",
   "execution_count": 69,
   "id": "municipal-pharmaceutical",
   "metadata": {},
   "outputs": [],
   "source": [
    "def GetStocksGraph(stocks_list):\n",
    "    '''\n",
    "    Send in a list of stocks and get a graph out\n",
    "    '''\n",
    "    plt.clf()\n",
    "    #plt.figure(figsize=(15,8))\n",
    "    #y_min = None\n",
    "    #y_max = None\n",
    "    #for s in stocks_list:\n",
    "    #    sdf = ConvertJsonToDataFrame(GetPrices(s))\n",
    "    #    plt.plot(sdf.index, sdf['close'], label=s)\n",
    "    #    cur_min = np.min(sdf['close'])\n",
    "    #    if y_min is None or cur_min < y_min:\n",
    "    #        y_min = cur_min\n",
    "    #    cur_max = np.max(sdf['close'])\n",
    "    #    if y_max is None or cur_max > y_max:\n",
    "    #        y_max = cur_max\n",
    "    \n",
    "    #myFmt = mdates.DateFormatter('%b-%y')\n",
    "    #plt.gca().xaxis.set_major_formatter(myFmt)\n",
    "    #plt.ylabel('Close Amount ($)')\n",
    "    #plt.xlabel('Day')\n",
    "    #plt.ylim(top=y_max, bottom=y_min)\n",
    "    #plt.legend()\n",
    "    #plt.gca().xaxis.set_minor_locator(mdates.DayLocator())\n",
    "    #plt.show()\n",
    "    \n",
    "    fig, ax = plt.subplots()\n",
    "    y_min = None\n",
    "    y_max = None\n",
    "    for s in stocks_list:\n",
    "        sdf = ConvertJsonToDataFrame(GetPrices(s))\n",
    "        ax.plot(sdf.index, sdf['close'], label=s)\n",
    "        cur_min = np.min(sdf['close'])\n",
    "        if y_min is None or cur_min < y_min:\n",
    "            y_min = cur_min\n",
    "        cur_max = np.max(sdf['close'])\n",
    "        if y_max is None or cur_max > y_max:\n",
    "            y_max = cur_max\n",
    "        display(sdf.head())\n",
    "    myFmt = mdates.DateFormatter('%b-%y')\n",
    "    ax.xaxis.set_major_formatter(myFmt)\n",
    "    ax.xaxis.set_minor_locator(mdates.DayLocator())\n",
    "    ax.set_ylabel('Close Amount ($)')\n",
    "    ax.set_xlabel('Day')\n",
    "    ax.set_ylim(top=y_max, bottom=y_min)\n",
    "    ax.legend()\n",
    "    plt.show()\n",
    "        "
   ]
  },
  {
   "cell_type": "code",
   "execution_count": 95,
   "id": "clear-little",
   "metadata": {},
   "outputs": [
    {
     "data": {
      "text/html": [
       "<div>\n",
       "<style scoped>\n",
       "    .dataframe tbody tr th:only-of-type {\n",
       "        vertical-align: middle;\n",
       "    }\n",
       "\n",
       "    .dataframe tbody tr th {\n",
       "        vertical-align: top;\n",
       "    }\n",
       "\n",
       "    .dataframe thead th {\n",
       "        text-align: right;\n",
       "    }\n",
       "</style>\n",
       "<table border=\"1\" class=\"dataframe\">\n",
       "  <thead>\n",
       "    <tr style=\"text-align: right;\">\n",
       "      <th></th>\n",
       "      <th>open</th>\n",
       "      <th>high</th>\n",
       "      <th>low</th>\n",
       "      <th>close</th>\n",
       "      <th>volume</th>\n",
       "    </tr>\n",
       "  </thead>\n",
       "  <tbody>\n",
       "    <tr>\n",
       "      <th>2021-02-17</th>\n",
       "      <td>119.27</td>\n",
       "      <td>120.560</td>\n",
       "      <td>119.02</td>\n",
       "      <td>119.97</td>\n",
       "      <td>3949876</td>\n",
       "    </tr>\n",
       "    <tr>\n",
       "      <th>2021-02-18</th>\n",
       "      <td>120.50</td>\n",
       "      <td>120.940</td>\n",
       "      <td>119.70</td>\n",
       "      <td>120.73</td>\n",
       "      <td>5399145</td>\n",
       "    </tr>\n",
       "    <tr>\n",
       "      <th>2021-02-19</th>\n",
       "      <td>120.75</td>\n",
       "      <td>120.760</td>\n",
       "      <td>118.38</td>\n",
       "      <td>118.99</td>\n",
       "      <td>6578741</td>\n",
       "    </tr>\n",
       "    <tr>\n",
       "      <th>2021-02-22</th>\n",
       "      <td>118.50</td>\n",
       "      <td>121.125</td>\n",
       "      <td>118.44</td>\n",
       "      <td>120.86</td>\n",
       "      <td>5838841</td>\n",
       "    </tr>\n",
       "    <tr>\n",
       "      <th>2021-02-23</th>\n",
       "      <td>120.92</td>\n",
       "      <td>121.350</td>\n",
       "      <td>119.80</td>\n",
       "      <td>120.71</td>\n",
       "      <td>4531464</td>\n",
       "    </tr>\n",
       "  </tbody>\n",
       "</table>\n",
       "</div>"
      ],
      "text/plain": [
       "              open     high     low   close   volume\n",
       "2021-02-17  119.27  120.560  119.02  119.97  3949876\n",
       "2021-02-18  120.50  120.940  119.70  120.73  5399145\n",
       "2021-02-19  120.75  120.760  118.38  118.99  6578741\n",
       "2021-02-22  118.50  121.125  118.44  120.86  5838841\n",
       "2021-02-23  120.92  121.350  119.80  120.71  4531464"
      ]
     },
     "metadata": {},
     "output_type": "display_data"
    },
    {
     "data": {
      "text/html": [
       "<div>\n",
       "<style scoped>\n",
       "    .dataframe tbody tr th:only-of-type {\n",
       "        vertical-align: middle;\n",
       "    }\n",
       "\n",
       "    .dataframe tbody tr th {\n",
       "        vertical-align: top;\n",
       "    }\n",
       "\n",
       "    .dataframe thead th {\n",
       "        text-align: right;\n",
       "    }\n",
       "</style>\n",
       "<table border=\"1\" class=\"dataframe\">\n",
       "  <thead>\n",
       "    <tr style=\"text-align: right;\">\n",
       "      <th></th>\n",
       "      <th>open</th>\n",
       "      <th>high</th>\n",
       "      <th>low</th>\n",
       "      <th>close</th>\n",
       "      <th>volume</th>\n",
       "    </tr>\n",
       "  </thead>\n",
       "  <tbody>\n",
       "    <tr>\n",
       "      <th>2021-02-17</th>\n",
       "      <td>779.09</td>\n",
       "      <td>799.8400</td>\n",
       "      <td>762.01</td>\n",
       "      <td>798.15</td>\n",
       "      <td>25878526</td>\n",
       "    </tr>\n",
       "    <tr>\n",
       "      <th>2021-02-18</th>\n",
       "      <td>780.90</td>\n",
       "      <td>794.6900</td>\n",
       "      <td>776.27</td>\n",
       "      <td>787.38</td>\n",
       "      <td>17957058</td>\n",
       "    </tr>\n",
       "    <tr>\n",
       "      <th>2021-02-19</th>\n",
       "      <td>795.00</td>\n",
       "      <td>796.7899</td>\n",
       "      <td>777.37</td>\n",
       "      <td>781.30</td>\n",
       "      <td>18958255</td>\n",
       "    </tr>\n",
       "    <tr>\n",
       "      <th>2021-02-22</th>\n",
       "      <td>762.64</td>\n",
       "      <td>768.5000</td>\n",
       "      <td>710.20</td>\n",
       "      <td>714.50</td>\n",
       "      <td>36594555</td>\n",
       "    </tr>\n",
       "    <tr>\n",
       "      <th>2021-02-23</th>\n",
       "      <td>662.13</td>\n",
       "      <td>713.6099</td>\n",
       "      <td>619.00</td>\n",
       "      <td>698.84</td>\n",
       "      <td>66606882</td>\n",
       "    </tr>\n",
       "  </tbody>\n",
       "</table>\n",
       "</div>"
      ],
      "text/plain": [
       "              open      high     low   close    volume\n",
       "2021-02-17  779.09  799.8400  762.01  798.15  25878526\n",
       "2021-02-18  780.90  794.6900  776.27  787.38  17957058\n",
       "2021-02-19  795.00  796.7899  777.37  781.30  18958255\n",
       "2021-02-22  762.64  768.5000  710.20  714.50  36594555\n",
       "2021-02-23  662.13  713.6099  619.00  698.84  66606882"
      ]
     },
     "metadata": {},
     "output_type": "display_data"
    },
    {
     "data": {
      "text/plain": [
       "<Figure size 432x288 with 0 Axes>"
      ]
     },
     "metadata": {},
     "output_type": "display_data"
    },
    {
     "data": {
      "image/png": "[encoded data removed]",
      "text/plain": [
       "<Figure size 432x288 with 1 Axes>"
      ]
     },
     "metadata": {
      "needs_background": "light"
     },
     "output_type": "display_data"
    }
   ],
   "source": [
    "GetStocksGraph(['IBM','TSLA'])"
   ]
  },
  {
   "cell_type": "code",
   "execution_count": 65,
   "id": "planned-casting",
   "metadata": {},
   "outputs": [
    {
     "name": "stdout",
     "output_type": "stream",
     "text": [
      "IBM\n",
      "TSLA\n"
     ]
    }
   ],
   "source": [
    "for s in stocks:\n",
    "    print(s)"
   ]
  },
  {
   "cell_type": "code",
   "execution_count": 92,
   "id": "brown-toyota",
   "metadata": {},
   "outputs": [
    {
     "data": {
      "text/html": [
       "<div>\n",
       "<style scoped>\n",
       "    .dataframe tbody tr th:only-of-type {\n",
       "        vertical-align: middle;\n",
       "    }\n",
       "\n",
       "    .dataframe tbody tr th {\n",
       "        vertical-align: top;\n",
       "    }\n",
       "\n",
       "    .dataframe thead th {\n",
       "        text-align: right;\n",
       "    }\n",
       "</style>\n",
       "<table border=\"1\" class=\"dataframe\">\n",
       "  <thead>\n",
       "    <tr style=\"text-align: right;\">\n",
       "      <th></th>\n",
       "      <th>open</th>\n",
       "      <th>high</th>\n",
       "      <th>low</th>\n",
       "      <th>close</th>\n",
       "      <th>volume</th>\n",
       "      <th>code</th>\n",
       "    </tr>\n",
       "  </thead>\n",
       "  <tbody>\n",
       "    <tr>\n",
       "      <th>2021-02-17</th>\n",
       "      <td>119.2700</td>\n",
       "      <td>120.560</td>\n",
       "      <td>119.0200</td>\n",
       "      <td>119.97</td>\n",
       "      <td>3949876</td>\n",
       "      <td>IBM</td>\n",
       "    </tr>\n",
       "    <tr>\n",
       "      <th>2021-02-18</th>\n",
       "      <td>120.5000</td>\n",
       "      <td>120.940</td>\n",
       "      <td>119.7000</td>\n",
       "      <td>120.73</td>\n",
       "      <td>5399145</td>\n",
       "      <td>IBM</td>\n",
       "    </tr>\n",
       "    <tr>\n",
       "      <th>2021-02-19</th>\n",
       "      <td>120.7500</td>\n",
       "      <td>120.760</td>\n",
       "      <td>118.3800</td>\n",
       "      <td>118.99</td>\n",
       "      <td>6578741</td>\n",
       "      <td>IBM</td>\n",
       "    </tr>\n",
       "    <tr>\n",
       "      <th>2021-02-22</th>\n",
       "      <td>118.5000</td>\n",
       "      <td>121.125</td>\n",
       "      <td>118.4400</td>\n",
       "      <td>120.86</td>\n",
       "      <td>5838841</td>\n",
       "      <td>IBM</td>\n",
       "    </tr>\n",
       "    <tr>\n",
       "      <th>2021-02-23</th>\n",
       "      <td>120.9200</td>\n",
       "      <td>121.350</td>\n",
       "      <td>119.8000</td>\n",
       "      <td>120.71</td>\n",
       "      <td>4531464</td>\n",
       "      <td>IBM</td>\n",
       "    </tr>\n",
       "    <tr>\n",
       "      <th>...</th>\n",
       "      <td>...</td>\n",
       "      <td>...</td>\n",
       "      <td>...</td>\n",
       "      <td>...</td>\n",
       "      <td>...</td>\n",
       "      <td>...</td>\n",
       "    </tr>\n",
       "    <tr>\n",
       "      <th>2021-07-02</th>\n",
       "      <td>678.9800</td>\n",
       "      <td>700.000</td>\n",
       "      <td>673.2600</td>\n",
       "      <td>678.90</td>\n",
       "      <td>27097374</td>\n",
       "      <td>TSLA</td>\n",
       "    </tr>\n",
       "    <tr>\n",
       "      <th>2021-07-06</th>\n",
       "      <td>681.7115</td>\n",
       "      <td>684.000</td>\n",
       "      <td>651.4002</td>\n",
       "      <td>659.58</td>\n",
       "      <td>23284450</td>\n",
       "      <td>TSLA</td>\n",
       "    </tr>\n",
       "    <tr>\n",
       "      <th>2021-07-07</th>\n",
       "      <td>664.2700</td>\n",
       "      <td>665.700</td>\n",
       "      <td>638.3200</td>\n",
       "      <td>644.65</td>\n",
       "      <td>18791960</td>\n",
       "      <td>TSLA</td>\n",
       "    </tr>\n",
       "    <tr>\n",
       "      <th>2021-07-08</th>\n",
       "      <td>628.3700</td>\n",
       "      <td>654.430</td>\n",
       "      <td>620.4600</td>\n",
       "      <td>652.81</td>\n",
       "      <td>22773316</td>\n",
       "      <td>TSLA</td>\n",
       "    </tr>\n",
       "    <tr>\n",
       "      <th>2021-07-09</th>\n",
       "      <td>653.1850</td>\n",
       "      <td>658.910</td>\n",
       "      <td>644.6900</td>\n",
       "      <td>656.95</td>\n",
       "      <td>18140548</td>\n",
       "      <td>TSLA</td>\n",
       "    </tr>\n",
       "  </tbody>\n",
       "</table>\n",
       "<p>200 rows × 6 columns</p>\n",
       "</div>"
      ],
      "text/plain": [
       "                open     high       low   close    volume  code\n",
       "2021-02-17  119.2700  120.560  119.0200  119.97   3949876   IBM\n",
       "2021-02-18  120.5000  120.940  119.7000  120.73   5399145   IBM\n",
       "2021-02-19  120.7500  120.760  118.3800  118.99   6578741   IBM\n",
       "2021-02-22  118.5000  121.125  118.4400  120.86   5838841   IBM\n",
       "2021-02-23  120.9200  121.350  119.8000  120.71   4531464   IBM\n",
       "...              ...      ...       ...     ...       ...   ...\n",
       "2021-07-02  678.9800  700.000  673.2600  678.90  27097374  TSLA\n",
       "2021-07-06  681.7115  684.000  651.4002  659.58  23284450  TSLA\n",
       "2021-07-07  664.2700  665.700  638.3200  644.65  18791960  TSLA\n",
       "2021-07-08  628.3700  654.430  620.4600  652.81  22773316  TSLA\n",
       "2021-07-09  653.1850  658.910  644.6900  656.95  18140548  TSLA\n",
       "\n",
       "[200 rows x 6 columns]"
      ]
     },
     "execution_count": 92,
     "metadata": {},
     "output_type": "execute_result"
    }
   ],
   "source": [
    "df3 = None\n",
    "for s in ['IBM','TSLA']:\n",
    "    if df3 is None:\n",
    "        df3 = ConvertJsonToDataFrame(GetPrices(s))\n",
    "        df3['code'] = s\n",
    "    else:\n",
    "        sdf = ConvertJsonToDataFrame(GetPrices(s))\n",
    "        sdf['code'] = s\n",
    "        df3 = df3.append(sdf)\n",
    "df3"
   ]
  },
  {
   "cell_type": "code",
   "execution_count": 93,
   "id": "cultural-growing",
   "metadata": {},
   "outputs": [
    {
     "data": {
      "text/html": [
       "<div>\n",
       "<style scoped>\n",
       "    .dataframe tbody tr th:only-of-type {\n",
       "        vertical-align: middle;\n",
       "    }\n",
       "\n",
       "    .dataframe tbody tr th {\n",
       "        vertical-align: top;\n",
       "    }\n",
       "\n",
       "    .dataframe thead th {\n",
       "        text-align: right;\n",
       "    }\n",
       "</style>\n",
       "<table border=\"1\" class=\"dataframe\">\n",
       "  <thead>\n",
       "    <tr style=\"text-align: right;\">\n",
       "      <th></th>\n",
       "      <th>open</th>\n",
       "      <th>high</th>\n",
       "      <th>low</th>\n",
       "      <th>close</th>\n",
       "      <th>volume</th>\n",
       "      <th>code</th>\n",
       "    </tr>\n",
       "  </thead>\n",
       "  <tbody>\n",
       "    <tr>\n",
       "      <th>2021-02-17</th>\n",
       "      <td>119.27</td>\n",
       "      <td>120.56</td>\n",
       "      <td>119.02</td>\n",
       "      <td>119.97</td>\n",
       "      <td>3949876</td>\n",
       "      <td>IBM</td>\n",
       "    </tr>\n",
       "    <tr>\n",
       "      <th>2021-02-17</th>\n",
       "      <td>779.09</td>\n",
       "      <td>799.84</td>\n",
       "      <td>762.01</td>\n",
       "      <td>798.15</td>\n",
       "      <td>25878526</td>\n",
       "      <td>TSLA</td>\n",
       "    </tr>\n",
       "  </tbody>\n",
       "</table>\n",
       "</div>"
      ],
      "text/plain": [
       "              open    high     low   close    volume  code\n",
       "2021-02-17  119.27  120.56  119.02  119.97   3949876   IBM\n",
       "2021-02-17  779.09  799.84  762.01  798.15  25878526  TSLA"
      ]
     },
     "execution_count": 93,
     "metadata": {},
     "output_type": "execute_result"
    }
   ],
   "source": [
    "df3[df3.index == '2021-02-17']"
   ]
  },
  {
   "cell_type": "code",
   "execution_count": 94,
   "id": "functioning-leone",
   "metadata": {},
   "outputs": [
    {
     "name": "stdout",
     "output_type": "stream",
     "text": [
      "IBM 151.28\n",
      "TSLA 798.15\n"
     ]
    },
    {
     "data": {
      "image/png": "[encoded data removed]",
      "text/plain": [
       "<Figure size 1080x576 with 1 Axes>"
      ]
     },
     "metadata": {
      "needs_background": "light"
     },
     "output_type": "display_data"
    }
   ],
   "source": [
    "#plt.clf()\n",
    "plt.figure(figsize=(15,8))\n",
    "#plt.plot(df3.index, df3['close'], label=df3['code'].unique())\n",
    "y_min = np.min(df3['close'])\n",
    "y_max = np.max(df3['close'])\n",
    "#colors = ['b','y','g','r','p']\n",
    "#ind = 0\n",
    "for code in df3['code'].unique():\n",
    "#code = 'GOOG'\n",
    "    temp = df3[df3['code'] == code]\n",
    "    plt.plot(temp.index, temp['close'], label=code)\n",
    "    print(code, np.max(temp['close']))\n",
    "myFmt = mdates.DateFormatter('%b-%y')\n",
    "plt.gca().xaxis.set_major_formatter(myFmt)\n",
    "plt.ylabel('Close Amount ($)')\n",
    "plt.xlabel('Day')\n",
    "plt.gca().xaxis.set_minor_locator(mdates.DayLocator())\n",
    "plt.legend()\n",
    "plt.ylim(top=y_max, bottom=y_min)\n",
    "plt.show()"
   ]
  },
  {
   "cell_type": "code",
   "execution_count": 109,
   "id": "continuous-importance",
   "metadata": {},
   "outputs": [],
   "source": [
    "def GetStocksGraph(stocks_list):\n",
    "    '''\n",
    "    Send in a list of stocks and get a graph out\n",
    "    '''\n",
    "    df = None\n",
    "    for s in stocks_list:\n",
    "        if df is None:\n",
    "            df = ConvertJsonToDataFrame(GetPrices(s))\n",
    "            df['code'] = s\n",
    "        else:\n",
    "            sdf = ConvertJsonToDataFrame(GetPrices(s))\n",
    "            sdf['code'] = s\n",
    "            df = df.append(sdf)\n",
    "    plt.clf()\n",
    "    plt.figure(figsize=(15,8))\n",
    "    if df is None:\n",
    "        y_min = 0\n",
    "        y_max = 1000\n",
    "    else:\n",
    "        y_min = np.min(df['close'])\n",
    "        y_max = np.max(df['close'])\n",
    "        \n",
    "        for code in df['code'].unique():\n",
    "            temp = df[df['code'] == code]\n",
    "            plt.plot(temp.index, temp['close'], label=code)\n",
    "        #print(code, np.max(temp['close']))\n",
    "        plt.legend()\n",
    "    myFmt = mdates.DateFormatter('%b-%y')\n",
    "    plt.gca().xaxis.set_major_formatter(myFmt)\n",
    "    plt.ylabel('Close Amount ($)')\n",
    "    plt.xlabel('Day')\n",
    "    plt.gca().xaxis.set_minor_locator(mdates.DayLocator())\n",
    "    plt.ylim(top=y_max, bottom=y_min)\n",
    "    plt.show()"
   ]
  },
  {
   "cell_type": "code",
   "execution_count": 111,
   "id": "seeing-labor",
   "metadata": {},
   "outputs": [
    {
     "data": {
      "text/plain": [
       "<Figure size 432x288 with 0 Axes>"
      ]
     },
     "metadata": {},
     "output_type": "display_data"
    },
    {
     "data": {
      "image/png": "[encoded data removed]",
      "text/plain": [
       "<Figure size 1080x576 with 1 Axes>"
      ]
     },
     "metadata": {
      "needs_background": "light"
     },
     "output_type": "display_data"
    }
   ],
   "source": [
    "GetStocksGraph(['IBM','TSLA'])"
   ]
  },
  {
   "cell_type": "code",
   "execution_count": 110,
   "id": "saving-blind",
   "metadata": {},
   "outputs": [
    {
     "data": {
      "text/plain": [
       "<Figure size 432x288 with 0 Axes>"
      ]
     },
     "metadata": {},
     "output_type": "display_data"
    },
    {
     "data": {
      "image/png": "[encoded data removed]",
      "text/plain": [
       "<Figure size 1080x576 with 1 Axes>"
      ]
     },
     "metadata": {
      "needs_background": "light"
     },
     "output_type": "display_data"
    }
   ],
   "source": [
    "GetStocksGraph([])"
   ]
  },
  {
   "cell_type": "code",
   "execution_count": null,
   "id": "joint-birth",
   "metadata": {},
   "outputs": [],
   "source": [
    "from getStocksGraph import GetStocksGraph\n",
    "GetStocksGraph(['IBM','TSLA'])"
   ]
  },
  {
   "cell_type": "code",
   "execution_count": null,
   "id": "recorded-bandwidth",
   "metadata": {},
   "outputs": [],
   "source": []
  }
 ],
 "metadata": {
  "kernelspec": {
   "display_name": "Python 3",
   "language": "python",
   "name": "python3"
  },
  "language_info": {
   "codemirror_mode": {
    "name": "ipython",
    "version": 3
   },
   "file_extension": ".py",
   "mimetype": "text/x-python",
   "name": "python",
   "nbconvert_exporter": "python",
   "pygments_lexer": "ipython3",
   "version": "3.7.3"
  }
 },
 "nbformat": 4,
 "nbformat_minor": 5
}
